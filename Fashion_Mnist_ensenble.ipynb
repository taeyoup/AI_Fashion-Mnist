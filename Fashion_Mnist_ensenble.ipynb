{
  "nbformat": 4,
  "nbformat_minor": 0,
  "metadata": {
    "colab": {
      "provenance": []
    },
    "kernelspec": {
      "name": "python3",
      "display_name": "Python 3"
    }
  },
  "cells": [
    {
      "cell_type": "code",
      "metadata": {
        "id": "itbBOIISUOav"
      },
      "source": [
        "import numpy as np\n",
        "import matplotlib.pyplot as plt\n",
        "import random\n",
        "import pandas as pd\n",
        "import sklearn\n",
        "from sklearn.model_selection import train_test_split"
      ],
      "execution_count": null,
      "outputs": []
    },
    {
      "cell_type": "code",
      "metadata": {
        "id": "hxjrrDh9UYN2",
        "colab": {
          "base_uri": "https://localhost:8080/"
        },
        "outputId": "b07b6d35-6294-4b28-b87d-c066fcf1237f"
      },
      "source": [
        "# 구글드라이브 연결\n",
        "from google.colab import drive\n",
        "drive.mount('/gdrive')"
      ],
      "execution_count": null,
      "outputs": [
        {
          "output_type": "stream",
          "name": "stdout",
          "text": [
            "Drive already mounted at /gdrive; to attempt to forcibly remount, call drive.mount(\"/gdrive\", force_remount=True).\n"
          ]
        }
      ]
    },
    {
      "cell_type": "code",
      "metadata": {
        "id": "XGVBpPeGUZ7y",
        "colab": {
          "base_uri": "https://localhost:8080/"
        },
        "outputId": "f8a21072-2bbf-4e62-a784-7e44e61c6df9"
      },
      "source": [
        "# 데이터파일 불러오기\n",
        "df = pd.read_csv('/gdrive/My Drive/Colab Notebooks/image-10k.csv', header=None)\n",
        "\n",
        "X1 = df.iloc[:, 1:].values     # 데이터샘플\n",
        "y1 = df.iloc[:, 0].values      # 타겟레이블\n",
        "\n",
        "x_train, x_test, y_train, y_test = train_test_split(\n",
        "    X1, y1, test_size=0.5, random_state=1, stratify=y1)\n",
        "\n",
        "\n",
        "\n",
        "print(x_train.shape, y_train.shape)\n",
        "print(x_test.shape, y_test.shape)"
      ],
      "execution_count": null,
      "outputs": [
        {
          "output_type": "stream",
          "name": "stdout",
          "text": [
            "(5000, 784) (5000,)\n",
            "(5000, 784) (5000,)\n"
          ]
        }
      ]
    },
    {
      "cell_type": "code",
      "metadata": {
        "id": "jr2EaaGPUq-Y",
        "colab": {
          "base_uri": "https://localhost:8080/",
          "height": 283
        },
        "outputId": "db5db339-62e1-4800-d970-fbfa5dc3b647"
      },
      "source": [
        "images = ['T-shirt', 'Trouser', 'Sweater', 'Dress', 'Coat', 'Sandal', 'Shirt', 'Sneaker', 'Bag', 'Boot']\n",
        "\n",
        "# 테스트셋 중에 임의로 하나를 선택\n",
        "r = random.randint(0, len(x_test) - 1)    \n",
        "x_single_data = x_test_std[r]\n",
        "y_single_data = y_test[r]\n",
        "\n",
        "# 선택된 테스트 이미지 레이블 출력\n",
        "print('Label: ', images[int(y_single_data.item())])\n",
        "\n",
        "# 선택된 테스트 이미지 출력\n",
        "plt.imshow(x_single_data.reshape(28, 28), cmap='Greys', interpolation='nearest')\n",
        "plt.show()"
      ],
      "execution_count": null,
      "outputs": [
        {
          "output_type": "stream",
          "name": "stdout",
          "text": [
            "Label:  Sandal\n"
          ]
        },
        {
          "output_type": "display_data",
          "data": {
            "image/png": "[encoded data removed]",
            "text/plain": [
              "<Figure size 432x288 with 1 Axes>"
            ]
          },
          "metadata": {
            "needs_background": "light"
          }
        }
      ]
    },
    {
      "cell_type": "markdown",
      "metadata": {
        "id": "K3RRuiNQ6ETv"
      },
      "source": [
        "여기부터 과제"
      ]
    },
    {
      "cell_type": "code",
      "metadata": {
        "id": "i9kL0UL6-Hx8"
      },
      "source": [
        "import torch\n",
        "import numpy as np\n",
        "import torchvision.datasets as dsets\n",
        "import torchvision.transforms as transforms # 기존 것들을 토치로 바꾸는데 좋음\n",
        "import matplotlib.pyplot as plt\n",
        "import random\n",
        "\n",
        "\n",
        "device = 'cuda' if torch.cuda.is_available() else 'cpu'"
      ],
      "execution_count": null,
      "outputs": []
    },
    {
      "cell_type": "code",
      "metadata": {
        "id": "xVbvaKxVn5tK"
      },
      "source": [
        "# for reproducibility\n",
        "random.seed(777)\n",
        "torch.manual_seed(777)\n",
        "\n",
        "if device == 'cuda':\n",
        "    torch.cuda.manual_seed_all(777)"
      ],
      "execution_count": null,
      "outputs": []
    },
    {
      "cell_type": "code",
      "metadata": {
        "id": "nWDYvAWlojLy"
      },
      "source": [
        "# 데이터 전처리\n",
        "from sklearn.preprocessing import StandardScaler\n",
        "\n",
        "sc = StandardScaler()\n",
        "sc.fit(x_train)\n",
        "x_train_std = sc.transform(x_train)\n",
        "x_test_std = sc.transform(x_test)\n"
      ],
      "execution_count": null,
      "outputs": []
    },
    {
      "cell_type": "code",
      "metadata": {
        "id": "sF2lX-TGq_x0"
      },
      "source": [
        "# parameters\n",
        "training_epochs = 50 # 학습 epochs\n",
        "batch_size = 100 # 배치사이즈, 적으면  "
      ],
      "execution_count": null,
      "outputs": []
    },
    {
      "cell_type": "code",
      "metadata": {
        "id": "Z9xIA6LxqC4A"
      },
      "source": [
        "# 불러온 데이터셋을 신경망에 입력에 맞게 추가로 관리\n",
        "# 불러온 데이터셋이 지금 넘파이 형태임, 텐서로 바꿔줘야함. 밑에 함수들 쓰면 편리\n",
        "\n",
        "# dataset: 대상 데이터셋\n",
        "# batch_size: 배치마다 몇개 샘플을 로드할 것인지\n",
        "# shuffle: True이면 매 에폭마다 데이터를 셔플링함\n",
        "# drop_last: True이면 마지막 배치가 샘플수가 모자라면 이를 버림, 배치 만들지 마라\n",
        "\n",
        "train = torch.utils.data.TensorDataset(torch.Tensor(x_train_std), torch.Tensor(y_train).type(torch.LongTensor))\n",
        "#torch.utils.data.TensorDataset = 파이토치에서 제공하는 데이터와 값을 묶어주는 함수, 여기선 X_train_std의 텐서와 \n",
        "#y_train_std의 텐서를 각각  일치시켜놓은걸 train 변수안에 저장\n",
        "\n",
        "#이제 train 함수를 배치사이즈로 쪼개야함, 밑은 그 함수\n",
        "data_loader = torch.utils.data.DataLoader(dataset=train,\n",
        "                                          batch_size=batch_size,\n",
        "                                          shuffle=True,\n",
        "                                          drop_last=True)"
      ],
      "execution_count": null,
      "outputs": []
    },
    {
      "cell_type": "code",
      "metadata": {
        "id": "J33Bh1XAqTvz"
      },
      "source": [
        "# 각 Affine 층(입력데이터에 선형 트랜스폼 수행) 모듈을 생성\n",
        "\n",
        "# 1번 인자: 입력 데이터 수\n",
        "# 2번 인자: 출력 데이터 수\n",
        "# bias: False이면 편향을 사용하지 않음\n",
        "\n",
        "linear1 = torch.nn.Linear(784,200, bias=True) # 첫번째 선형조합, nn = neural network, 컬럼 0과 2를 가져왔으니 2개의 입력, 다가져오면 4개 입력\n",
        "linear2 = torch.nn.Linear(200, 100, bias=True) # bias = 편향값 추가할거?\n",
        "linear3 = torch.nn.Linear(100, 10, bias=True)\n",
        "\n",
        "\n",
        "# 활성화함수 모듈을 생성\n",
        "sigmoid = torch.nn.Sigmoid()\n",
        "relu = torch.nn.ReLU()\n",
        "lrelu = torch.nn.LeakyReLU()\n",
        "\n",
        "#이제 위에 쪼개진 모델들 다 묶어보자 \n",
        "# 만들어진 층, 활성화함수 모듈들을 순서대로 연결해서 모델 생성\n",
        "# 타겟 연산 플랫폼을 설정\n",
        "model = torch.nn.Sequential(linear1, relu, linear2, relu, linear3).to(device) "
      ],
      "execution_count": null,
      "outputs": []
    },
    {
      "cell_type": "code",
      "metadata": {
        "id": "78DFyKqNrEzc"
      },
      "source": [
        "criterion = torch.nn.CrossEntropyLoss().to(device)  # 내부에 Softmax를 포함함"
      ],
      "execution_count": null,
      "outputs": []
    },
    {
      "cell_type": "code",
      "metadata": {
        "id": "z2Dm-Cw3rGaZ"
      },
      "source": [
        "# 옵티마이저가 최적화할 파라미터를 넘김\n",
        "\n",
        "# Stochastic gradient descent\n",
        "# 1번 인자: 최적화할 파라미터 그룹\n",
        "# lr: learning rate\n",
        "\n",
        "optimizer = torch.optim.SGD(model.parameters(), lr=0.3) # 경사하강법 옵티마이저 사용, model.parameters()로 우리가 \n",
        "# 가진 모델들의 가중치들을 다 넘겨줌\n"
      ],
      "execution_count": null,
      "outputs": []
    },
    {
      "cell_type": "code",
      "metadata": {
        "colab": {
          "base_uri": "https://localhost:8080/"
        },
        "id": "re0fXwn_rM0F",
        "outputId": "4a1b0661-07b3-462a-8fb9-b5b05146879a"
      },
      "source": [
        "for epoch in range(training_epochs):\n",
        "\n",
        "    avg_cost = 0 # 에폭마다 0으로 초기화\n",
        "    total_batch = len(data_loader) # \n",
        "\n",
        "    # data_loader의 데이터는 앞서 지정한 배치사이즈로 쪼개져 있음\n",
        "    for X, T in data_loader: # 첫번째 배치(size=10)에서 갖고있는 X,T에 대해 밑에 함수들 돌림, 이후엔 두번째 배치에서 그 배치의 X,T를 돌림\n",
        "        X = X.to(device) # 배치 데이터\n",
        "        T = T.to(device) # 그 배치 데이터의 정답 값\n",
        "\n",
        "        optimizer.zero_grad()   # 기존 계산한 경사하강법의 경사값 삭제 (초기화)\n",
        "        output = model(X)       # 순방향 연산\n",
        "        cost = criterion(output, T)   # 손실함수 설정\n",
        "        cost.backward()         # 경사값 계산함수, backward() = 가중치 계산시간 줄여주는 기법\n",
        "        optimizer.step()        # 업데이트 1회 수행\n",
        "\n",
        "        avg_cost += cost / total_batch     # 평균 손실함수값 계산\n",
        "\n",
        "    print('Epoch:', '%04d' % (epoch + 1), 'cost =', '{:.9f}'.format(avg_cost))\n",
        "    # 몇번째 에폭에서 코스트가 얼만지 출력 \n",
        "    \n",
        "print('Learning finished')"
      ],
      "execution_count": null,
      "outputs": [
        {
          "output_type": "stream",
          "name": "stdout",
          "text": [
            "Epoch: 0001 cost = 0.961363316\n",
            "Epoch: 0002 cost = 0.571218431\n",
            "Epoch: 0003 cost = 0.449207366\n",
            "Epoch: 0004 cost = 0.394128799\n",
            "Epoch: 0005 cost = 0.358635724\n",
            "Epoch: 0006 cost = 0.314429939\n",
            "Epoch: 0007 cost = 0.294027597\n",
            "Epoch: 0008 cost = 0.273733020\n",
            "Epoch: 0009 cost = 0.231608316\n",
            "Epoch: 0010 cost = 0.246359378\n",
            "Epoch: 0011 cost = 0.177280769\n",
            "Epoch: 0012 cost = 0.166446060\n",
            "Epoch: 0013 cost = 0.171937332\n",
            "Epoch: 0014 cost = 0.150657445\n",
            "Epoch: 0015 cost = 0.115160517\n",
            "Epoch: 0016 cost = 0.108208016\n",
            "Epoch: 0017 cost = 0.115020096\n",
            "Epoch: 0018 cost = 0.083971851\n",
            "Epoch: 0019 cost = 0.126107305\n",
            "Epoch: 0020 cost = 0.069656789\n",
            "Epoch: 0021 cost = 0.047458496\n",
            "Epoch: 0022 cost = 0.059162319\n",
            "Epoch: 0023 cost = 0.431160808\n",
            "Epoch: 0024 cost = 0.095336288\n",
            "Epoch: 0025 cost = 0.099841356\n",
            "Epoch: 0026 cost = 0.054218251\n",
            "Epoch: 0027 cost = 0.042408768\n",
            "Epoch: 0028 cost = 0.024108032\n",
            "Epoch: 0029 cost = 0.016784914\n",
            "Epoch: 0030 cost = 0.011417519\n",
            "Epoch: 0031 cost = 0.008685562\n",
            "Epoch: 0032 cost = 0.008214224\n",
            "Epoch: 0033 cost = 0.007748005\n",
            "Epoch: 0034 cost = 0.006385511\n",
            "Epoch: 0035 cost = 0.004493286\n",
            "Epoch: 0036 cost = 0.003540928\n",
            "Epoch: 0037 cost = 0.002856328\n",
            "Epoch: 0038 cost = 0.009731317\n",
            "Epoch: 0039 cost = 0.002839785\n",
            "Epoch: 0040 cost = 0.002105796\n",
            "Epoch: 0041 cost = 0.001744139\n",
            "Epoch: 0042 cost = 0.001653516\n",
            "Epoch: 0043 cost = 0.001406481\n",
            "Epoch: 0044 cost = 0.001303417\n",
            "Epoch: 0045 cost = 0.001156196\n",
            "Epoch: 0046 cost = 0.001112100\n",
            "Epoch: 0047 cost = 0.001044930\n",
            "Epoch: 0048 cost = 0.001013218\n",
            "Epoch: 0049 cost = 0.000920817\n",
            "Epoch: 0050 cost = 0.000896754\n",
            "Learning finished\n"
          ]
        }
      ]
    },
    {
      "cell_type": "code",
      "metadata": {
        "colab": {
          "base_uri": "https://localhost:8080/"
        },
        "id": "ykpr3lUY7laW",
        "outputId": "1cd99853-f07f-4a39-a0fa-25d12ae7c093"
      },
      "source": [
        "for X, T in data_loader: # 첫번째 배치(size=10)에서 갖고있는 X,T에 대해 밑에 함수들 돌림, 이후엔 두번째 배치에서 그 배치의 X,T를 돌림\n",
        "        X = X.to(device) # 배치 데이터\n",
        "        T = T.to(device) # 그 배치 데이터의 정답 값\n",
        "        print(X,len(X[0]),len(X))\n",
        "        print(T)\n",
        "        break"
      ],
      "execution_count": null,
      "outputs": [
        {
          "output_type": "stream",
          "name": "stdout",
          "text": [
            "tensor([[-0.0190, -0.0211, -0.0259,  ..., -0.1579, -0.0913, -0.0415],\n",
            "        [-0.0190, -0.0211, -0.0259,  ..., -0.1579, -0.0913, -0.0415],\n",
            "        [-0.0190, -0.0211, -0.0259,  ..., -0.1579, -0.0913, -0.0415],\n",
            "        ...,\n",
            "        [-0.0190, -0.0211, -0.0259,  ..., -0.1579, -0.0913, -0.0415],\n",
            "        [-0.0190, -0.0211, -0.0259,  ..., -0.1579, -0.0913, -0.0415],\n",
            "        [-0.0190, -0.0211, -0.0259,  ..., -0.1579, -0.0913, -0.0415]]) 784 100\n",
            "tensor([4, 4, 6, 6, 5, 7, 6, 5, 4, 9, 4, 7, 9, 5, 4, 1, 3, 0, 6, 1, 8, 9, 7, 4,\n",
            "        4, 8, 5, 9, 1, 2, 8, 1, 2, 8, 0, 4, 5, 0, 3, 1, 4, 0, 3, 5, 7, 3, 1, 7,\n",
            "        1, 4, 7, 2, 9, 3, 9, 7, 4, 8, 1, 9, 1, 3, 5, 2, 8, 3, 6, 1, 1, 4, 3, 1,\n",
            "        5, 5, 4, 3, 4, 9, 8, 0, 1, 2, 7, 7, 2, 4, 6, 2, 9, 1, 1, 5, 3, 2, 0, 5,\n",
            "        3, 6, 3, 6])\n"
          ]
        }
      ]
    },
    {
      "cell_type": "code",
      "metadata": {
        "id": "NhPK0tTNsjar"
      },
      "source": [
        "labels = ['T-shirt', 'Trouser', 'Sweater', 'Dress', 'Coat', 'Sandal', 'Shirt', 'Sneaker', 'Bag', 'Boot']"
      ],
      "execution_count": null,
      "outputs": []
    },
    {
      "cell_type": "code",
      "metadata": {
        "colab": {
          "base_uri": "https://localhost:8080/"
        },
        "id": "xNdNgTS9sDT0",
        "outputId": "db8e46b7-ee14-4b35-958d-30a9f37254b0"
      },
      "source": [
        "with torch.no_grad(): # 학습 끝났으니 가중치 업뎃 안할거임, 그걸 위한 함수 torch.no_grad()\n",
        "\n",
        "    X_test_std = torch.tensor(x_test_std).float().to(device)\n",
        "    T_test = torch.tensor(y_test).to(device)\n",
        "\n",
        "    # 테스트셋에 대해 추론 수행\n",
        "    output1 = model(X_test_std) # output은 클래스1,2,3에 대한 확률에 대한 값을 가지고 있게 됨\n",
        "\n",
        "    # 출력값이 가장 높은 뉴런의 인덱스와 정답을 비교, 맞으면 1, 틀리면 0\n",
        "    correct_prediction = torch.argmax(output1, 1) == T_test #  torch.argmax(output1, 1) = output에서 max값을 가진 데이터의 index값 출력, 정답과 맞으면 1, 틀리면 0\n",
        "    #  correct_prediction = [1,0,1,1,0,~~~~] 45개의 인덱스를 가짐\n",
        "\n",
        "    # 정확도 계산\n",
        "    accuracy = correct_prediction.float().mean()\n",
        "    print('Accuracy:', accuracy.item())\n",
        "\n",
        "    # 테스트셋 중에 임의로 하나를 선택\n",
        "    r = random.randint(0, len(X_test_std) - 1)    \n",
        "    X_single_data = X_test_std[r]\n",
        "    T_single_data = T_test[r]\n",
        "\n",
        "    print('Label: ', labels[T_single_data.item()])\n",
        "    single_output = model(X_single_data)\n",
        "    print('Prediction: ', labels[torch.argmax(single_output).item()])  \n",
        "\n",
        "    \n",
        "\n",
        "\n",
        "  "
      ],
      "execution_count": null,
      "outputs": [
        {
          "output_type": "stream",
          "name": "stdout",
          "text": [
            "Accuracy: 0.8600000143051147\n",
            "Label:  Shirt\n",
            "Prediction:  Shirt\n"
          ]
        }
      ]
    },
    {
      "cell_type": "code",
      "metadata": {
        "colab": {
          "base_uri": "https://localhost:8080/",
          "height": 764
        },
        "id": "_7aDNvS4tXAb",
        "outputId": "b28b6419-c24d-4082-ebaa-c30e017a3c70"
      },
      "source": [
        "from sklearn.metrics import confusion_matrix\n",
        "from sklearn.metrics import ConfusionMatrixDisplay\n",
        "\n",
        "plt.rcParams['figure.figsize'] = (10,10)\n",
        "\n",
        "cm = confusion_matrix(T_test.cpu(), torch.argmax(output1, 1).cpu())\n",
        "print(cm)\n",
        "\n",
        "labels = [0, 1, 2, 3, 4, 5, 6, 7, 8, 9]\n",
        "\n",
        "# 노멀라이즈하고 싶으면:\n",
        "cm = cm / np.repeat(np.bincount(T_test.cpu()), 10).reshape(10,10)\n",
        "\n",
        "cm_display = ConfusionMatrixDisplay(cm, display_labels=labels).plot(cmap=plt.cm.Blues)"
      ],
      "execution_count": null,
      "outputs": [
        {
          "output_type": "stream",
          "name": "stdout",
          "text": [
            "[[404   0   7  14   2   1  62   0  10   0]\n",
            " [  1 485   2  10   0   1   1   0   0   0]\n",
            " [ 10   0 401   6  45   0  33   0   5   0]\n",
            " [ 19   3   7 445  17   0   8   0   1   0]\n",
            " [  1   3  41   7 414   0  34   0   0   0]\n",
            " [  1   0   0   2   0 443   0  32   1  21]\n",
            " [ 74   2  52  14  53   2 297   0   6   0]\n",
            " [  0   0   0   0   0  16   0 456   0  28]\n",
            " [  1   0   3   2   2   4   6   1 480   1]\n",
            " [  0   0   1   0   0   4   0  27   1 467]]\n"
          ]
        },
        {
          "output_type": "display_data",
          "data": {
            "image/png": "[encoded data removed]",
            "text/plain": [
              "<Figure size 720x720 with 2 Axes>"
            ]
          },
          "metadata": {
            "needs_background": "light"
          }
        }
      ]
    }
  ]
}